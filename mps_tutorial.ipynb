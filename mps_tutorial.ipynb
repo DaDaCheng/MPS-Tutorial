{
 "cells": [
  {
   "cell_type": "markdown",
   "metadata": {},
   "source": [
    "# Tutorial on Matrix Product States for Generative Learning\n",
    "[Pan Zhang](http://lib.itp.ac.cn/html/panzhang/)  \n",
    "Institute of Theoretical Physics, Chinese Academy of Sciences  \n",
    "Reference: Z. Han, J. Wang, H. Fan, L. Wang and P. Zhang, [arXiv:1709.01662](https://arxiv.org/abs/1709.01662)   (to appear in *Phys. Rev. X* )  \n",
    "Date: 06.11.2018\n",
    "\n",
    "_Abstract_:  \n",
    "Generative modeling is an important task in machine learning and artificial intelligence. It asks to learn joint probability distribution from training data and generates samples according to it. Many models have been proposed for generative modeling. In this tutorial, we introuduce a new model that is inspired by probabilistic interpretation of quantum physics, which we call _Born Machine_. In particular we introduce a generative model using matrix product states, which is a tensor network originally proposed for describing (particularly one-dimensional) entangled quantum states. The model enjoys efficient learning by utilizing the density matrix renormalization group method, and offers an efficient direct sampling for generative tasks. \n",
    "\n",
    "The tutorial contains three parts: \n",
    "1. An introducion to tensor networks and matrix product states (tensor train format).\n",
    "2. An Introducion to generative modeling, and how to do this using matrix product states, i.e. MPS Born Machine.\n",
    "3. In the last part I will give simple python code for training a MPS."
   ]
  },
  {
   "cell_type": "markdown",
   "metadata": {},
   "source": [
    "## 1.   An mini introduction to tensor networks and matrix product states\n",
    "### 1.1 Data and tensors\n",
    "<img src=\"imgs/tensor.png\" width=150/>\n",
    "* Data can be expressed (or mapped to) as a vector in a Hilbert space $\\mathcal {H}$ of dimension $n$. Different mappings result to different spaces.\n",
    "* Linear opearations in the space $\\mathcal{H}$ can be expressed by an operator. Linear operators in ab high-dimensional space correpond to non-linear operators in a low-dimensional space: Kernel methods, representer theorem.\n",
    "* In practice, we use **tensors** (multi-way arrays) to represent both operators and vectors.\n",
    "* **Curse of dimensionality** $\\Longleftrightarrow$ A large effective dimension $\\Longleftrightarrow$ Tensors contain too many elements\n",
    "* Low-dimensional approximation to a tensor $\\Longleftrightarrow$ Compression of the Hilbert space $\\Longleftrightarrow$ **Tensor networks**\n",
    "\n",
    "### 1.2  Applications of tensor networks\n",
    "* Tensor networks and graphical models: tensor contractions correpond to summation (or integration) of hidden (i.e. latent) variables\n",
    "* In Physics, tensor networks are used for\n",
    "  * expressing a wave function, by contracting virtual indices.\n",
    "  * expressing the partition function of a classic system, by contracting all indices.\n",
    "* In Applied Mathematics, tensor networks are used for \n",
    "  * fitting a function or another tensor\n",
    "  * Data compression\n",
    "* In Machine Learning (new), tensor networks are used for  \n",
    "  * predicting unknown elements of a tensor using its known elements.\n",
    "  * As a classifier\n",
    "  * Generative model via Born's rule (the topic of this tutorial)\n",
    "  \n",
    "  A biased conclusion: **Optimization** in physics, **Fitting** in applied mathematics, and **Generalization** in machine learning.\n",
    "\n",
    "### 1.3  Tensor Networks\n",
    "#### 1.3.1 Tensor diagrams\n",
    "<img src=\"imgs/tensor_diagram.png\" width=\"600px\" />\n",
    "\n",
    "#### 1.3.2 Rank-1 tensors: product states\n",
    "$$\\mathcal{A} = \\mathbf{a}^{(1)}\\circ \\mathbf{a}^{(2)}\\circ \\cdots\\circ \\mathbf{a}^{(n)}$$\n",
    "* The simplest tensor network: rank-one tensor, or factorized (pure) state. The number of elemens is proportional to the number of mode. The different modes are _independent_.\n",
    "  * A qubit has two eigen states:\n",
    "    * The first eigen state (analogous to pixel _black_) is expressed as    $| {\\uparrow   } \\rangle =|0\\rangle=\\left(\\begin{matrix}1\\\\0\\end{matrix}\\right)$, \n",
    "    * The second eigen state (analogous to pixel _white_) is expressed as $|{\\downarrow }\\rangle=|1\\rangle=\\left(\\begin{matrix}0\\\\1\\end{matrix}\\right)$，\n",
    "    * A pixel with gray level $0.8$ can be expressed as $|\\Psi\\rangle=\\sqrt{0.8}|{\\uparrow }\\rangle+\\sqrt{0.2}|{\\downarrow }\\rangle=\\left(\\begin{matrix}\\sqrt{0.8}\\\\\\sqrt{0.2}\\end{matrix}\\right)$\n",
    "* Product of two qubits: $|\\Psi\\rangle =|{\\uparrow }\\rangle|{\\downarrow }\\rangle=\\left(\\begin{matrix}1\\\\0\\end{matrix}\\right)\\otimes \\left(\\begin{matrix}0\\\\1\\end{matrix}\\right)=\\left(\\begin{matrix}0\\\\1\\\\0\\\\0\\end{matrix}\\right)=\\left(\\begin{matrix}0&0\\\\1&0\\end{matrix}\\right)$  <img src=\"imgs/two_qubits.png\" width=\"100px\" />\n",
    "* Product of two qubits: $|\\Psi\\rangle =|{\\uparrow }\\rangle\\left(\\frac{1}{\\sqrt{2}}|{\\uparrow }\\rangle+\\frac{1}{\\sqrt{2}}|{\\downarrow }\\rangle\\right)$\n",
    "* Rank-one tensor can be used to fit any tensor i.e. extracting _key_ information of the tensor.  However the error could be very large, as the number of parameters in the rank-one tensor is very limited, hence rank-one tensor has very _limited representation power_. Consider a general system with $n$ qubits, it has $2^{n}-1$ free parameters, its rank-one fitting contains only $2n$ free parameters.\n",
    "<img src=\"imgs/rank_one.png\" width=\"550px\" />\n"
   ]
  },
  {
   "cell_type": "markdown",
   "metadata": {},
   "source": [
    "#### 1.3.3 Tensors with rank $> 1$: entangled states\n",
    "* Non-factorized pure states:\n",
    "  * entanglement state of two qubits:   $\\frac{1}{\\sqrt{2}}|{\\uparrow }\\rangle|{\\downarrow }\\rangle-\\frac{1}{\\sqrt{2}}|{\\downarrow }\\rangle|{\\uparrow }\\rangle $, it can not be written as product state in any basis. The entanglements come from (anti) correlations.\n",
    "  * EPR pair:    $\\frac{1}{\\sqrt{2}}|{\\uparrow }\\rangle|{\\uparrow }\\rangle+\\frac{1}{\\sqrt{2}}|{\\downarrow }\\rangle|{\\downarrow }\\rangle $, what is its rank of the unfolded matrix?\n",
    "  * $|\\textrm{GHZ}\\rangle=\\frac{1}{\\sqrt{2}}\\left( |{\\uparrow }\\rangle^{\\otimes n}+ | {\\downarrow }\\rangle^{\\otimes n}\\right)$\n",
    "  \n",
    "* Rank and engtanglement:\n",
    " * Rank-one $\\Longleftrightarrow$ no entanglements\n",
    " * Larger rank, more enganglements. Quantitatively characterized by _entanglement entropy_.\n",
    " * Entanglments mean that some information of the system is shared by two qubits. Looking at one isolated qubit looses information!\n",
    " * Unfold a tensor into a <math>2\\times 2</math>matrix, rank is the number of non-zero singular values of the matrix. It is also equivalent to the number of non-zero eigenvalues of the _reduced density matrix_.\n",
    " * Why SVD? Because SVD = Schmidt decomposition, a natural orthogonal bisection method!\n",
    " * How to determine whether there are engantlements between two sub-systems of a system with multiple (say $7$) qubits?\n",
    "   * The same principle: unfoled the size-$2^7$ tensor to a matrix of size $2^3\\times 2^4$, then look at its rank.\n",
    "   * Squared singular values of this matrix ＝eigenvalues of the reduced density matrix.\n",
    "   * Recall the definition of singular values: it is actually equivalent to finding eigenvalues of the related covariance matrix.\n",
    "   * There are many methods for unfolding this size-$2^7$ tesor, each of which corresponds to different _permute_$\\to$_reshape_ operations. If we can do this for any tensor (with unlimited memory and computational power), it gives exact estimate of entaglement entropy, as well as the bond dimension of DMRG.\n",
    "   * A quick test: is $|\\Psi\\rangle=\\frac{1}{ {2}}|{\\uparrow }\\rangle|{\\uparrow }\\rangle+\\frac{1}{ {2}}|{\\downarrow }\\rangle|{\\downarrow }\\rangle+\\frac{1}{ {2}}|{\\uparrow }\\rangle|{\\downarrow }\\rangle+\\frac{1}{ {2}}|{\\downarrow }\\rangle|{\\uparrow }\\rangle$ entangled?\n",
    "\n",
    "* Entanglment entropy\n",
    "  * The entanglement entropy defined on eigenvalues of the reduced density matrix.\n",
    "  * The density matrix $\\rho=|\\Psi\\rangle\\langle\\Psi|$ of pure state $\\Psi$ is rank-1.\n",
    "  * Whether the reduced density matrix $\\rho_A=\\textrm{Tr}_B|\\Psi\\rangle\\langle\\Psi|$ has rank larger than $1$ depends on whether sub-system A is entangled with sub system B.\n",
    "  * $\\psi_{AB}$ is a matrix obtained by unfolding tensor $\\Psi$, and $\\rho_A=\\psi_{AB}\\psi_{AB}^\\dagger$. Thus rank of $\\rho_A$ equals $\\rho_B$, which is also identical to rank of $\\psi_{AB}$.\n",
    "  * Eigenvalues of $\\rho_A$ are coinside with eigenvalues of $\\rho_B$, which are identical to squared singular values of $\\psi_{AB}$.\n",
    "  * Entanglement entropy is defined as $S(\\rho_A)=S(U\\rho_A U^\\dagger)=S(P(\\{\\lambda_i\\}))=\\sum_i\\lambda_i\\log(\\lambda_i)$, where U is a (column-orthogonal) unitary matrix, $P(\\{\\lambda_i)\\}$ denotes distribution of eigenvalues of the reduced density matrix.\n",
    "\n",
    "#### 1.3.4 Tensor networks used in physics\n",
    "<img src=\"imgs/tensor_networks.png\" width=\"450px\" />\n",
    "\n",
    "### 1.4  Tensor decompositions\n",
    "I want to emphasize that tensor networks are indeed tensor decompositions. This section focus on the mathematical aspects of them.\n",
    "* Canonical Polyadic (CP) decomposition $[\\mathbf{\\lambda};\\mathbf{A_1}, \\mathbf{A_1},\\cdots,\\mathbf{A_n}]$.\n",
    "<img src=\"imgs/cp.png\" width=\"250px\" />\n",
    "  * number of parameters $ndr$.\n",
    "  * It defines the (canonical) rank of the tensor.\n",
    "  * Finding the optimal rank belongs the class of NP problems.\n",
    "  * Alternating Least Square algorithm for CP decomposition of tensor $\\mathcal{Y}$:\n",
    "    * Having fixed all matrices but $A_i$, the problem reduces to a problem of linear least-squares \n",
    "    $$A_i  = \\arg\\min_{\\hat A_i}\\left|Y_{(i)}-\\hat A_i(A_1\\odot A_2\\odot\\cdots\\odot A_{i-1}\\odot A_{i+1}\\odot\\cdots\\odot A_n)^{\\top}\\right|_2$$\n",
    "    * Hence $A_i$ is determined by\n",
    "    $$A_i  = Y_{(i)}\\left[(A_1\\odot A_2\\odot\\cdots\\odot A_{i-1}\\odot A_{i+1}\\odot\\cdots\\odot A_n)^{\\top}\\right]^\\dagger$$\n",
    "    Here $Y_{(i)}$ is the matrix unfolded at $i$-th mode of the tensor $\\mathcal{Y}$, $\\odot$ denotes the Khatri-Rao product, and $A^\\dagger$ denotes pseudo inverse of matrix $A$.\n",
    "  \n",
    "* Tucker decomposition, also known as _higher order SVD_, _n-mode PCA_ $[\\mathcal{{G}};\\mathbf{A_1}, \\mathbf{A_1},\\cdots,\\mathbf{A_n}]$.  \n",
    "<img src=\"imgs/tucker.png\" width=\"250px\" />\n",
    "  * number of parameters $ndr+r^n$.\n",
    "  * Can be seen as a compression to the original tensor using core $\\mathcal{G}$.\n",
    "  * Can be decomposed using _HOSVD_ algorithm:\n",
    "    * unfold the tensor into $1,2,...,n$ modes, then do singular value decomposition on the unfolded matrices.\n",
    "    * contract the original tensor to the inverse of obtained unitary matrices one by one.\n",
    "\n",
    "\n",
    "* Tensor train (TT) decomposition, which is named _matrix product states_.  \n",
    "<img src=\"imgs/mps2.png\" width=\"280px\" />\n",
    "  * Number of parameters $ndr^2$.\n",
    "  * TT Decomposition can be consructed exactly using _Schmidt decomposition_, also known as _TTSVD_ algorithm:\n",
    "    * choose an order of tensors\n",
    "    * unfolding the tensor into a matrix of size $(d_1),(d_2\\times d_3,...,\\times d_n)$, then do singular value decomposition on the unfolded matrix.\n",
    "    * unfolding the tensor into a matrix of size $(d_1\\times d_2),(d_3\\times d_4,...,\\times d_n)$, then do singular value decomposition on the unfolded matrix.\n",
    "    * $\\cdots\\cdots$\n",
    "    * unfolding the tensor into a matrix of size $(d_1\\times d_2\\cdots\\times d_{n-1}),(d_n)$, then do singular value decomposition on the unfolded matrix.\n",
    "  * More stable than CP to train using e.g. algorithms analogous to the Density Matrix Renormalization Group (DMRG).\n",
    "  * CP format with rank $r$ can be converted into TT format with rank $r$ by exact constructing using _direct sum_.\n",
    "\n",
    "  \n",
    "* Hierarchical Tucker decomposition, which is known as _tree tensor netorks_ in physics.  \n",
    "To be updated\n"
   ]
  },
  {
   "cell_type": "code",
   "execution_count": null,
   "metadata": {},
   "outputs": [],
   "source": []
  },
  {
   "cell_type": "markdown",
   "metadata": {},
   "source": [
    "## 2.   An introduction to generative modeling using matrix product states\n",
    "### 2.1 Generative modeling using Born Machine\n",
    "There are mainly two kinds of tasks in marchine learning\n",
    "* Supervised learning (discriminative learning), where data $x$ come with labels $t$. It asks to model conditional distributions $P(t|x)$.\n",
    "* Unsupervised learning (generative learning), where data $x$ does not have label. It asks to model joint distribution of data $P(x)$.   \n",
    "<img src=\"imgs/supunsup.png\" width=\"500 px\"/>\n",
    "\n",
    "Many models have been proposed for generative learning, for example, the Hidden Markov model, Boltzmann machines, Gaussian mixture models, Variational autoencoders, generative adversary networks... Among them, the Boltzmann machine (BM) is closely related to the Ising model in statistical physics, and ultilizes Boltzmann distribution for modeling data joint distribution.\n",
    "$$P(x)=\\frac{1}{Z}e^{-E(x)},$$\n",
    "where $E(x)$ denotes energy of configuration $x$ and $Z$ is the partition function.\n",
    "\n",
    "In this tutorial, we model joint distribution using _Born's_ rule of quantum mechanics\n",
    "$$P(x)=\\frac{1}{\\mathcal{N}}{|\\Psi(x)|^2},$$\n",
    "where $\\Psi$ denotes wave function, $\\mathcal{N}$ is the normalization factor. We call the model _Born Machine_.\n",
    "<img src=\"imgs/born_machine.png\" width=\"500 px\"/>\n",
    "\n",
    "### 2.2 Data mapping to Hilbert space\n",
    "* Each image (among totoally $m$ images) is mapped to a product state $\\mathbf{x}=v_1\\circ v_2\\circ v_3\\circ\\cdots\\circ v_n$\n",
    "  * A white pixel $i$ is represented as $v_i=| {\\uparrow   } \\rangle =|0\\rangle=\\left(\\begin{matrix}1\\\\0\\end{matrix}\\right)$,\n",
    "  * A black pixel $j$ is represented as $v_j=|{\\downarrow }\\rangle=|1\\rangle=\\left(\\begin{matrix}0\\\\1\\end{matrix}\\right)$.\n",
    "* The data distribution becomes $$ Q_{\\mathrm{data}}(\\mathbf{x}) = \\frac{1}{m}\\sum_{t=1}^m\\delta(x - v_1^t\\circ v_2^t\\circ\\cdots\\circ v_n^t)$$\n",
    "* This can be seen as rank-$m$ CP decomposition of the original (unknown) tensor.\n",
    "\n",
    "### 2.3 Matrix product state as wavefunction in Born machine\n",
    "\\begin{align}\n",
    "P(\\mathbf{x})&=\\frac{|\\Psi(\\mathbf{x})|^2}{Z},\n",
    "\\end{align}\n",
    "and the wave function is parametrized by MPS\n",
    "<img src=\"imgs/mps1.png\" width=\"500 px\"/>\n",
    "and is formulated as\n",
    "\\begin{align}\n",
    "\\Psi(\\mathbf{x})&=\\Psi_{\\mathrm{mps}} \\cdot \\left( v_1^t\\circ v_2^t\\circ \\cdots\\circ v_n^t  \\right)\\\\\n",
    "&=\\sum_{w_1,w_2,...w_{n-1}} A^{(1)}_{v_1,w_1}A^{(2)}_{w_1,v_2,w_2}\\cdots A^{(n-1)}_{w_{n-2},v_{n-1},w_{n-1}}A^{(n)}_{w_{n-1},v_{n}}\\\\\n",
    "&= A^{(1)}_{v_1}A^{(2)}_{v_2}\\cdots A^{(n)}_{v_n}\n",
    "\\end{align}\n",
    "and $Z$ represent the partition function\n",
    "\\begin{align}\n",
    "Z&=\\sum_{\\mathbf{x}}|\\Psi(\\mathbf{x})|^2\n",
    "\\end{align}\n",
    "* The number of parameters is roughly $2nD^2$, rather than $2^n$.\n",
    "* Training via an algorithm analogous to the Density Matrix Renormalization Group.\n",
    "* Easy computation of the partition function (thanks to the data mapping).\n",
    "* Direct sampling.\n",
    "* Exact representation of whole data requires $D=m$ (recall the MPS and CP section), but this is not what we want:\n",
    "  * $m$ is too large as a bound dimension.\n",
    "  * It is _overfitting_!\n",
    "  \n"
   ]
  },
  {
   "cell_type": "markdown",
   "metadata": {},
   "source": [
    "### 2.4 Learning of MPS\n",
    "#### 2.4.1 Maximum-lieklihood learning\n",
    "The goal of learning is to make the joint distribution given by the Born's rule as close as the data distribution. First one needs to quantify _distance_ between two probability distributions. Here we use the Kullback-Leibler divergence between data distribution $Q_{\\mathrm{data}}(\\mathbf{x})$ and the MPS distribution $P_\\theta(\\mathbf{x})$ which is parametrized by $\\theta$ (tensor elements).\n",
    "\\begin{align}\n",
    "D_{\\mathrm{KL}}\\left(Q_{\\mathrm{data}}(\\mathbf{x})|P_\\theta(\\mathbf{x})\\right)&=\\sum_{\\mathbf{x}}Q_{\\mathrm{data}}(\\mathbf{x})\\log\\frac{Q_{\\mathrm{data}}(\\mathbf{x})}{P_\\theta(\\mathbf{x})}\\\\\n",
    "&=\\sum_{\\mathbf{x}}Q_{\\mathrm{data}}(\\mathbf{x})\\log Q_{\\mathrm{data}}(\\mathbf{x})-\\sum_{\\mathbf{x}}Q_{\\mathrm{data}}(\\mathbf{x}) \\log P_\\theta(\\mathbf{x})\\\\\n",
    "&=-S_Q+\\mathcal{L_\\theta},\n",
    "\\end{align}\n",
    "where $S_Q$ is the entropy of distribution $Q_{\\mathrm{data}}$, and $\\mathcal{L}$ is the so-called _Negative Log-Likelihood_ (NLL).\n",
    "\n",
    "It is easy to show (e.g. using Jenson's inequality) that KL divergence is non-negative. This indicates a lower-bound for the NLL $\\mathcal{L_\\theta}\\geq S_Q$.\n",
    "Notice that this lower bound is achieved only when $P_\\theta(\\mathbf{x}) = Q_{\\mathrm{data}}(\\mathbf{x})$.\n",
    "\n",
    "The learning amounts to finding parameters $\\theta$, i.e. tensor elements, such that the KL divergence is minimized.\n",
    "$$\\hat \\theta=\\arg\\min_\\theta D_{\\mathrm{KL}}\\left(Q_{\\mathrm{data}}(\\mathbf{x})|P_\\theta(\\mathbf{x})\\right) =\\arg\\max_\\theta \\mathcal{L_\\theta}$$\n",
    "#### 2.4.2 Learning of MPS\n",
    "Let us rewrite the NLL as\n",
    "\\begin{align}\n",
    "\\mathcal{L_\\theta}&=-\\sum_{t=1}^mQ_{\\mathrm{data}}(\\mathbf{x}_t) \\log P_\\theta(\\mathbf{x})\\\\\n",
    "&=-\\frac{1}{m}\\sum_{t=1}^m\\log |\\Psi(\\mathbf{x}_t)|^2 +\\log Z\\\\\n",
    "\\end{align}\n",
    "then update tensor elements using gradient descent.\n",
    "\n",
    "The gradients are computed as \n",
    "\\begin{align}\n",
    "\\frac{\\partial \\mathcal{L}}{A^{(i)}_{w_{i-1},v_i,w_{i}}}&=-\\frac{2}{m}\\sum_{t=1}^m\\frac{\\Psi'_{w_{i-1},v_i,w_i}(\\mathbf{x_t})}{\\Psi(\\mathbf{x_t})}+\\frac{2A^{(i)}_{w_{i-1},v_i,w_{i}}}{Z},\n",
    "\\end{align}\n",
    "where $\\Psi'_{w_{i-1},v_i,w_{i}}(\\mathbf{x_t})$ is the derivative of $\\Psi$ with respect to tensor element  $A^{(i)}_{w_{i-1},v_i,w_{i}}$ evaluated at $\\mathbf{x_t}$. It is evaluated as $$\\Psi'_{w_{i-1},v_i,w_{i}}(\\mathbf{x_t}) =u^l_{w_{i-1},v_i}(\\mathbf{x_t})\\cdot u^r_{w_i,v_i}(\\mathbf{x_t})=\\left(\\sum_{w_1,w_2,...w_{i-2}}A^{(1)}_{v_1,w_1}A^{(2)}_{w_1,v_2,w_2}\\cdots A^{(i-1)}_{w_{i-2},v_{i-1},w_{i-1}}\\right )\\cdot \\left ( \\sum_{w_{i+1},w_{i+2},...w_{n}}A^{(i+1)}_{v_i,w_i,v_{i+1}}\\cdots A^{(n)}_{w_{n-1},v_{n}}\\right).$$\n",
    "The gradients can actaully be written in a more compact form:\n",
    "$$\\bigtriangledown_{A^{(i)}}\\mathcal{L}=-\\frac{2}{m}\\sum_{t=1}^m\\frac{ u^l(\\mathbf{x_t})\\circ u^r(\\mathbf{x_t}) }{\\Psi(\\mathbf{x_t})}+\\frac{2A^{(i)}}{Z},$$\n",
    "where $u^l$ and $u^r$ are vectors contracted from left and from right respectively, as shown in the function above. $u^l(\\mathbf{x_t})\\circ u^r(\\mathbf{x_t})$ denotes a rank-one tensor obtained by tensor product of vectors $u^l(\\mathbf{x_t})$ and $u^r(\\mathbf{x_t})$, it is also known as _environment tensor_.\n",
    "<img src=\"imgs/psi_prime.png\" width=\"300 px\"/>\n",
    "Another important part in computing gradients is that the partition function $Z$ is easy to compute, thanks to the orthogonalization.\n",
    "<img src=\"imgs/Z.png\" width=\"500 px\"/>\n"
   ]
  },
  {
   "cell_type": "markdown",
   "metadata": {},
   "source": [
    "### 2.5 Generating new images using _direct sampling_\n",
    "The most important feature of MPS is that the joint probability distribution can be computed exactly,\n",
    "<img src=\"imgs/joint_prob.png\" width=\"630px\"/>\n",
    "as well as conditional probabilities\n",
    "<img src=\"imgs/cond_prob.png\" width=\"630px\"/>\n",
    "This property makes pixel-by-pixel sampling easy and exact.\n",
    "\n",
    "### 2.6 Numerical results\n",
    "A typical behavior of the log-likelihood look like\n",
    "<img src=\"imgs/L0.png\" width=\"400px\"/>\n",
    "where the NLL decreases monotonically, untill it reaches the lower-bound $S(Q)=\\log(m)$ for non-overlapping training data. \n",
    "The lower-bound is always achiveable by increasing the bond-dimension\n",
    "<img src=\"imgs/mnist_mps.png\" width=\"400px\"/>\n",
    "However usually one does not want to reach the lower-bound, because it is overfitting: training NLL does not make too much sense, test NLL does!\n",
    "<img src=\"imgs/L.png\" width=\"700px\"/>\n",
    "\n",
    "After the MPS is well trained, it could find many unsupervised applications, e.g. reconstructing partial images  \n",
    "\n",
    "<img src=\"imgs/recon0.png\" width=\"500px\"/>\n",
    "to \n",
    "<img src=\"imgs/recon1.png\" width=\"500px\"/>"
   ]
  },
  {
   "cell_type": "markdown",
   "metadata": {},
   "source": [
    "## 3. A simple implementation of MPS Born Machine"
   ]
  },
  {
   "cell_type": "code",
   "execution_count": 1,
   "metadata": {},
   "outputs": [],
   "source": [
    "import sys\n",
    "import numpy as np\n",
    "import torch # tested under pytorch 0.4.0\n",
    "import math\n",
    "%matplotlib inline\n",
    "import matplotlib.pyplot as plt\n",
    "\n",
    "torch.manual_seed(1) # Fix seed of the random number generators\n",
    "np.random.seed(1)"
   ]
  },
  {
   "cell_type": "markdown",
   "metadata": {},
   "source": [
    "The function below is used to plot mnist images"
   ]
  },
  {
   "cell_type": "code",
   "execution_count": 2,
   "metadata": {},
   "outputs": [],
   "source": [
    "def show_imgs(imgs,l1=4,l2=5,s1=6,s2=6):\n",
    "    \"\"\"    Plot images    \"\"\"\n",
    "    plt.rcParams['figure.figsize']=(s1,s2)\n",
    "    imgs=imgs.reshape([-1,28,28])\n",
    "    g, ax = plt.subplots(l1,l2)\n",
    "    for i in range(l1):\n",
    "        for j in range(l2):\n",
    "            a=i*l1+j\n",
    "            if(a>=imgs.shape[0]):\n",
    "                break\n",
    "            ax[i][j].imshow(imgs[a,:,:],cmap='summer')\n",
    "            ax[i][j].set_xticks([])\n",
    "            ax[i][j].set_yticks([])\n",
    "    plt.show()"
   ]
  },
  {
   "cell_type": "markdown",
   "metadata": {},
   "source": [
    "### Data loading\n",
    "$100$ MNIST images have been stored as \"mnist_100_28x28_p0.5.npy\".  \n",
    "Each image contains $n=28\\times 28=784$ pixels, each of which takes value $0$ or $1$.  \n",
    "In our settings, each image is viewed as a product state in the Hilbert space of  dimension $2^n$."
   ]
  },
  {
   "cell_type": "code",
   "execution_count": 3,
   "metadata": {
    "scrolled": true
   },
   "outputs": [
    {
     "data": {
      "image/png": "[encoded data removed]",
      "text/plain": [
       "<Figure size 720x144 with 20 Axes>"
      ]
     },
     "metadata": {},
     "output_type": "display_data"
    }
   ],
   "source": [
    "n=784 # number of qubits\n",
    "m=20 # m images\n",
    "data=np.load(\"imgs/mnist_100_28x28_p0.5.npy\")\n",
    "data=data[:m,:,:]\n",
    "data=torch.LongTensor(data)\n",
    "data=data.view(-1,784) # m images, each of which is reshaped into a vector of length 784\n",
    "show_imgs(data,2,10,10,2)"
   ]
  },
  {
   "cell_type": "markdown",
   "metadata": {},
   "source": [
    "### MPS initialization\n",
    "Define the mps, which is a list of 3-way tensors containing random values \n",
    "<img src=\"imgs/mps.png\" width=\"350px\"/>"
   ]
  },
  {
   "cell_type": "code",
   "execution_count": 4,
   "metadata": {},
   "outputs": [],
   "source": [
    "Dmax=30 # maximum bond dimension\n",
    "bond_dims=[Dmax for i in range(n-1)]+[1]\n",
    "tensors= [ torch.randn(bond_dims[i-1],2,bond_dims[i]) for i in range(n)]"
   ]
  },
  {
   "cell_type": "markdown",
   "metadata": {},
   "source": [
    "Now check the bond dimensions and tensors"
   ]
  },
  {
   "cell_type": "code",
   "execution_count": 5,
   "metadata": {
    "scrolled": true
   },
   "outputs": [
    {
     "name": "stdout",
     "output_type": "stream",
     "text": [
      "There are len(tensors) tensors\n",
      "[30, 30, 30, 30, 30, 30, 30, 30, 30, 30, 30, 30, 30, 30, 30, 30, 30, 30, 30, 30, 30, 30, 30, 30, 30, 30, 30, 30, 30, 30, 30, 30, 30, 30, 30, 30, 30, 30, 30, 30, 30, 30, 30, 30, 30, 30, 30, 30, 30, 30, 30, 30, 30, 30, 30, 30, 30, 30, 30, 30, 30, 30, 30, 30, 30, 30, 30, 30, 30, 30, 30, 30, 30, 30, 30, 30, 30, 30, 30, 30, 30, 30, 30, 30, 30, 30, 30, 30, 30, 30, 30, 30, 30, 30, 30, 30, 30, 30, 30, 30, 30, 30, 30, 30, 30, 30, 30, 30, 30, 30, 30, 30, 30, 30, 30, 30, 30, 30, 30, 30, 30, 30, 30, 30, 30, 30, 30, 30, 30, 30, 30, 30, 30, 30, 30, 30, 30, 30, 30, 30, 30, 30, 30, 30, 30, 30, 30, 30, 30, 30, 30, 30, 30, 30, 30, 30, 30, 30, 30, 30, 30, 30, 30, 30, 30, 30, 30, 30, 30, 30, 30, 30, 30, 30, 30, 30, 30, 30, 30, 30, 30, 30, 30, 30, 30, 30, 30, 30, 30, 30, 30, 30, 30, 30, 30, 30, 30, 30, 30, 30, 30, 30, 30, 30, 30, 30, 30, 30, 30, 30, 30, 30, 30, 30, 30, 30, 30, 30, 30, 30, 30, 30, 30, 30, 30, 30, 30, 30, 30, 30, 30, 30, 30, 30, 30, 30, 30, 30, 30, 30, 30, 30, 30, 30, 30, 30, 30, 30, 30, 30, 30, 30, 30, 30, 30, 30, 30, 30, 30, 30, 30, 30, 30, 30, 30, 30, 30, 30, 30, 30, 30, 30, 30, 30, 30, 30, 30, 30, 30, 30, 30, 30, 30, 30, 30, 30, 30, 30, 30, 30, 30, 30, 30, 30, 30, 30, 30, 30, 30, 30, 30, 30, 30, 30, 30, 30, 30, 30, 30, 30, 30, 30, 30, 30, 30, 30, 30, 30, 30, 30, 30, 30, 30, 30, 30, 30, 30, 30, 30, 30, 30, 30, 30, 30, 30, 30, 30, 30, 30, 30, 30, 30, 30, 30, 30, 30, 30, 30, 30, 30, 30, 30, 30, 30, 30, 30, 30, 30, 30, 30, 30, 30, 30, 30, 30, 30, 30, 30, 30, 30, 30, 30, 30, 30, 30, 30, 30, 30, 30, 30, 30, 30, 30, 30, 30, 30, 30, 30, 30, 30, 30, 30, 30, 30, 30, 30, 30, 30, 30, 30, 30, 30, 30, 30, 30, 30, 30, 30, 30, 30, 30, 30, 30, 30, 30, 30, 30, 30, 30, 30, 30, 30, 30, 30, 30, 30, 30, 30, 30, 30, 30, 30, 30, 30, 30, 30, 30, 30, 30, 30, 30, 30, 30, 30, 30, 30, 30, 30, 30, 30, 30, 30, 30, 30, 30, 30, 30, 30, 30, 30, 30, 30, 30, 30, 30, 30, 30, 30, 30, 30, 30, 30, 30, 30, 30, 30, 30, 30, 30, 30, 30, 30, 30, 30, 30, 30, 30, 30, 30, 30, 30, 30, 30, 30, 30, 30, 30, 30, 30, 30, 30, 30, 30, 30, 30, 30, 30, 30, 30, 30, 30, 30, 30, 30, 30, 30, 30, 30, 30, 30, 30, 30, 30, 30, 30, 30, 30, 30, 30, 30, 30, 30, 30, 30, 30, 30, 30, 30, 30, 30, 30, 30, 30, 30, 30, 30, 30, 30, 30, 30, 30, 30, 30, 30, 30, 30, 30, 30, 30, 30, 30, 30, 30, 30, 30, 30, 30, 30, 30, 30, 30, 30, 30, 30, 30, 30, 30, 30, 30, 30, 30, 30, 30, 30, 30, 30, 30, 30, 30, 30, 30, 30, 30, 30, 30, 30, 30, 30, 30, 30, 30, 30, 30, 30, 30, 30, 30, 30, 30, 30, 30, 30, 30, 30, 30, 30, 30, 30, 30, 30, 30, 30, 30, 30, 30, 30, 30, 30, 30, 30, 30, 30, 30, 30, 30, 30, 30, 30, 30, 30, 30, 30, 30, 30, 30, 30, 30, 30, 30, 30, 30, 30, 30, 30, 30, 30, 30, 30, 30, 30, 30, 30, 30, 30, 30, 30, 30, 30, 30, 30, 30, 30, 30, 30, 30, 30, 30, 30, 30, 30, 30, 30, 30, 30, 30, 30, 30, 30, 30, 30, 30, 30, 30, 30, 30, 30, 30, 30, 30, 30, 30, 30, 30, 30, 30, 30, 30, 30, 30, 30, 30, 30, 30, 30, 30, 30, 30, 30, 30, 30, 30, 30, 30, 30, 30, 30, 30, 30, 30, 30, 30, 30, 30, 30, 30, 30, 30, 30, 30, 30, 30, 30, 30, 30, 30, 30, 30, 30, 30, 30, 30, 30, 30, 30, 30, 30, 30, 30, 30, 30, 30, 30, 30, 30, 30, 30, 30, 30, 30, 30, 30, 30, 30, 30, 30, 30, 30, 30, 30, 30, 30, 30, 30, 1]\n",
      "torch.Size([30, 2, 30])\n"
     ]
    }
   ],
   "source": [
    "print(\"There are len(tensors) tensors\")\n",
    "print(bond_dims)\n",
    "print(tensors[5].shape)"
   ]
  },
  {
   "cell_type": "markdown",
   "metadata": {},
   "source": [
    "Question: does the contration with one image give a probability of the image? Why?"
   ]
  },
  {
   "cell_type": "markdown",
   "metadata": {},
   "source": [
    "Canonicalization using QR decompositions"
   ]
  },
  {
   "cell_type": "code",
   "execution_count": 6,
   "metadata": {},
   "outputs": [],
   "source": [
    "def orthogonalize(site,going_right):\n",
    "    dl=bond_dims[site-1] # left bond dimension\n",
    "    d=bond_dims[site]   # current bond dimension\n",
    "    if(going_right):\n",
    "        A=tensors[site].view(dl*2,d) # A is a matrix unfolded from the current tensor\n",
    "        Q,R=torch.qr(A)\n",
    "        R/=R.norm() # devided by norm \n",
    "        tensors[site] = Q.contiguous().view(dl,2,-1)\n",
    "        tensors[site+1] = (R@tensors[site+1].view(d,-1)).view(-1,2,bond_dims[site+1])\n",
    "        bond_dims[site] = Q.shape[1] # economy QR, so the right dimension could be either dl or d\n",
    "    else: # going left\n",
    "        A=tensors[site].view(dl,d*2).t()\n",
    "        Q,R=torch.qr(A)\n",
    "        R/=R.norm() \n",
    "        tensors[site]=Q.t().contiguous().view(-1,2,d)\n",
    "        tensors[site-1] = (tensors[site-1].view(-1,dl)@R.t()).view(bond_dims[site-2],2,-1)\n",
    "        bond_dims[site-1] = Q.shape[1]\n"
   ]
  },
  {
   "cell_type": "markdown",
   "metadata": {},
   "source": [
    "### MPS left canonicalization\n",
    "Canonicalization gives several advantages:   \n",
    "* It make the partition function of the model equals to $1$.  \n",
    "* The isometries have condition number $1$, preserving very well the computation precisions.\n",
    "<img src=\"imgs/mps_left.png\" width=\"350px\"/>"
   ]
  },
  {
   "cell_type": "code",
   "execution_count": 7,
   "metadata": {},
   "outputs": [],
   "source": [
    "for site in range(n-1):\n",
    "    orthogonalize(site,True)     "
   ]
  },
  {
   "cell_type": "code",
   "execution_count": 8,
   "metadata": {},
   "outputs": [
    {
     "data": {
      "text/plain": [
       "torch.Size([30, 2, 1])"
      ]
     },
     "execution_count": 8,
     "metadata": {},
     "output_type": "execute_result"
    }
   ],
   "source": [
    "tensors[783].shape"
   ]
  },
  {
   "cell_type": "markdown",
   "metadata": {},
   "source": [
    "Canonicalization changes the bond dimensions, to see it"
   ]
  },
  {
   "cell_type": "code",
   "execution_count": 9,
   "metadata": {
    "scrolled": true
   },
   "outputs": [
    {
     "name": "stdout",
     "output_type": "stream",
     "text": [
      "[2, 4, 8, 16, 30, 30, 30, 30, 30, 30, 30, 30, 30, 30, 30, 30, 30, 30, 30, 30, 30, 30, 30, 30, 30, 30, 30, 30, 30, 30, 30, 30, 30, 30, 30, 30, 30, 30, 30, 30, 30, 30, 30, 30, 30, 30, 30, 30, 30, 30, 30, 30, 30, 30, 30, 30, 30, 30, 30, 30, 30, 30, 30, 30, 30, 30, 30, 30, 30, 30, 30, 30, 30, 30, 30, 30, 30, 30, 30, 30, 30, 30, 30, 30, 30, 30, 30, 30, 30, 30, 30, 30, 30, 30, 30, 30, 30, 30, 30, 30, 30, 30, 30, 30, 30, 30, 30, 30, 30, 30, 30, 30, 30, 30, 30, 30, 30, 30, 30, 30, 30, 30, 30, 30, 30, 30, 30, 30, 30, 30, 30, 30, 30, 30, 30, 30, 30, 30, 30, 30, 30, 30, 30, 30, 30, 30, 30, 30, 30, 30, 30, 30, 30, 30, 30, 30, 30, 30, 30, 30, 30, 30, 30, 30, 30, 30, 30, 30, 30, 30, 30, 30, 30, 30, 30, 30, 30, 30, 30, 30, 30, 30, 30, 30, 30, 30, 30, 30, 30, 30, 30, 30, 30, 30, 30, 30, 30, 30, 30, 30, 30, 30, 30, 30, 30, 30, 30, 30, 30, 30, 30, 30, 30, 30, 30, 30, 30, 30, 30, 30, 30, 30, 30, 30, 30, 30, 30, 30, 30, 30, 30, 30, 30, 30, 30, 30, 30, 30, 30, 30, 30, 30, 30, 30, 30, 30, 30, 30, 30, 30, 30, 30, 30, 30, 30, 30, 30, 30, 30, 30, 30, 30, 30, 30, 30, 30, 30, 30, 30, 30, 30, 30, 30, 30, 30, 30, 30, 30, 30, 30, 30, 30, 30, 30, 30, 30, 30, 30, 30, 30, 30, 30, 30, 30, 30, 30, 30, 30, 30, 30, 30, 30, 30, 30, 30, 30, 30, 30, 30, 30, 30, 30, 30, 30, 30, 30, 30, 30, 30, 30, 30, 30, 30, 30, 30, 30, 30, 30, 30, 30, 30, 30, 30, 30, 30, 30, 30, 30, 30, 30, 30, 30, 30, 30, 30, 30, 30, 30, 30, 30, 30, 30, 30, 30, 30, 30, 30, 30, 30, 30, 30, 30, 30, 30, 30, 30, 30, 30, 30, 30, 30, 30, 30, 30, 30, 30, 30, 30, 30, 30, 30, 30, 30, 30, 30, 30, 30, 30, 30, 30, 30, 30, 30, 30, 30, 30, 30, 30, 30, 30, 30, 30, 30, 30, 30, 30, 30, 30, 30, 30, 30, 30, 30, 30, 30, 30, 30, 30, 30, 30, 30, 30, 30, 30, 30, 30, 30, 30, 30, 30, 30, 30, 30, 30, 30, 30, 30, 30, 30, 30, 30, 30, 30, 30, 30, 30, 30, 30, 30, 30, 30, 30, 30, 30, 30, 30, 30, 30, 30, 30, 30, 30, 30, 30, 30, 30, 30, 30, 30, 30, 30, 30, 30, 30, 30, 30, 30, 30, 30, 30, 30, 30, 30, 30, 30, 30, 30, 30, 30, 30, 30, 30, 30, 30, 30, 30, 30, 30, 30, 30, 30, 30, 30, 30, 30, 30, 30, 30, 30, 30, 30, 30, 30, 30, 30, 30, 30, 30, 30, 30, 30, 30, 30, 30, 30, 30, 30, 30, 30, 30, 30, 30, 30, 30, 30, 30, 30, 30, 30, 30, 30, 30, 30, 30, 30, 30, 30, 30, 30, 30, 30, 30, 30, 30, 30, 30, 30, 30, 30, 30, 30, 30, 30, 30, 30, 30, 30, 30, 30, 30, 30, 30, 30, 30, 30, 30, 30, 30, 30, 30, 30, 30, 30, 30, 30, 30, 30, 30, 30, 30, 30, 30, 30, 30, 30, 30, 30, 30, 30, 30, 30, 30, 30, 30, 30, 30, 30, 30, 30, 30, 30, 30, 30, 30, 30, 30, 30, 30, 30, 30, 30, 30, 30, 30, 30, 30, 30, 30, 30, 30, 30, 30, 30, 30, 30, 30, 30, 30, 30, 30, 30, 30, 30, 30, 30, 30, 30, 30, 30, 30, 30, 30, 30, 30, 30, 30, 30, 30, 30, 30, 30, 30, 30, 30, 30, 30, 30, 30, 30, 30, 30, 30, 30, 30, 30, 30, 30, 30, 30, 30, 30, 30, 30, 30, 30, 30, 30, 30, 30, 30, 30, 30, 30, 30, 30, 30, 30, 30, 30, 30, 30, 30, 30, 30, 30, 30, 30, 30, 30, 30, 30, 30, 30, 30, 30, 30, 30, 30, 30, 30, 30, 30, 30, 30, 30, 30, 30, 30, 30, 30, 30, 30, 30, 30, 30, 30, 30, 30, 30, 30, 30, 30, 30, 30, 30, 30, 30, 30, 30, 30, 30, 30, 30, 30, 30, 30, 30, 30, 30, 30, 30, 30, 30, 30, 30, 30, 30, 30, 30, 30, 30, 30, 30, 30, 30, 30, 30, 30, 30, 30, 30, 30, 30, 1]\n"
     ]
    }
   ],
   "source": [
    "print(bond_dims)"
   ]
  },
  {
   "cell_type": "markdown",
   "metadata": {},
   "source": [
    "Now contracting mps with one image gives the probability amplitude of the image."
   ]
  },
  {
   "cell_type": "code",
   "execution_count": 10,
   "metadata": {},
   "outputs": [],
   "source": [
    "def get_psi():\n",
    "    psi=torch.ones([m,1,1])\n",
    "    for site in range(n):\n",
    "        psi = psi @ tensors[site][:,data[:,site],:].permute(1,0,2)\n",
    "    return(psi)"
   ]
  },
  {
   "cell_type": "code",
   "execution_count": 11,
   "metadata": {},
   "outputs": [],
   "source": [
    "def gen_samples(ns):\n",
    "    samples=np.zeros([ns,n])\n",
    "    for site in range(n-1):# left canonicalize\n",
    "        orthogonalize(site,True) \n",
    "    for s in range(ns):\n",
    "        vec=torch.ones(1,1)\n",
    "        for site in range(n-1,-1,-1):\n",
    "            vec = (tensors[site].view(-1,bond_dims[site])@vec).view(-1,2)\n",
    "            p0 = vec[:,0].norm()**2/ (vec.norm()**2)\n",
    "            x = (0 if np.random.rand() < p0 else 1)\n",
    "            vec = vec[:,x]\n",
    "            samples[s][site]=x\n",
    "    return samples"
   ]
  },
  {
   "cell_type": "markdown",
   "metadata": {},
   "source": [
    "### Initialize cache for MPS\n",
    "Computing probability of a image consists of contracting bonds from the first tensor to the last tensor. Lots of computation results can be re-used in the future computations, so we would like to store the contraction results in the cache.\n",
    "Notice that the cache is for all images."
   ]
  },
  {
   "cell_type": "code",
   "execution_count": 12,
   "metadata": {},
   "outputs": [],
   "source": [
    "cache=[] \n",
    "cache.append( torch.ones([m,1,1])) # The initial elements, all images have cache 1\n",
    "for site in range(n-1):\n",
    "    B=cache[site] @ tensors[site][:,data[:,site],:].permute(1,0,2)\n",
    "    B /= B.abs().max()\n",
    "    cache.append(  B  ) # batched matrix multiplications\n",
    "cache.append( torch.ones(m,1,1)) # the last element, matrix [1,1] for all images"
   ]
  },
  {
   "cell_type": "markdown",
   "metadata": {},
   "source": [
    "Notice that code ```B /= B.abs().max()``` is used to preserve computational precision, avoiding maximum value of the cache becomes too small. We can do this because the gradient is invariant by multiplying the cache by a constant, for each image.  \n",
    "Length of the cache is $n+1$. In the caceh, for an image, each pixel has a correponding vector, denoting the temporary results in tensor contractions (from left to right or from right to left).\n",
    "Let us look at the content of cache for image alpha=1:"
   ]
  },
  {
   "cell_type": "code",
   "execution_count": 13,
   "metadata": {
    "scrolled": false
   },
   "outputs": [
    {
     "name": "stdout",
     "output_type": "stream",
     "text": [
      "cache site 1  tensor([[1.]])\n",
      "cache site 2  tensor([[-1.0000, -0.5231]])\n",
      "cache site 3  tensor([[ 0.6791,  0.3302, -0.6933,  1.0000]])\n"
     ]
    }
   ],
   "source": [
    "alpha=1 # the image 1\n",
    "print(\"cache site 1 \",cache[0][alpha])\n",
    "print(\"cache site 2 \",cache[1][alpha])\n",
    "print(\"cache site 3 \",cache[2][alpha])"
   ]
  },
  {
   "cell_type": "markdown",
   "metadata": {},
   "source": [
    "Then the probability amplitude $\\psi$ for images can be obtained by"
   ]
  },
  {
   "cell_type": "code",
   "execution_count": 14,
   "metadata": {},
   "outputs": [],
   "source": [
    "psi=get_psi()"
   ]
  },
  {
   "cell_type": "markdown",
   "metadata": {},
   "source": [
    "Let us output the probablity for an image, which equals $|\\psi|^2$ "
   ]
  },
  {
   "cell_type": "code",
   "execution_count": 15,
   "metadata": {
    "scrolled": true
   },
   "outputs": [
    {
     "name": "stdout",
     "output_type": "stream",
     "text": [
      "Probability of generating image 3 = 0.00000\n"
     ]
    }
   ],
   "source": [
    "print(\"Probability of generating image 3 = %.5f\"%(psi*psi)[3])"
   ]
  },
  {
   "cell_type": "code",
   "execution_count": 17,
   "metadata": {
    "scrolled": false
   },
   "outputs": [
    {
     "ename": "TypeError",
     "evalue": "only size-1 arrays can be converted to Python scalars",
     "output_type": "error",
     "traceback": [
      "\u001b[0;31m---------------------------------------------------------------------------\u001b[0m",
      "\u001b[0;31mTypeError\u001b[0m                                 Traceback (most recent call last)",
      "\u001b[0;32m<ipython-input-17-5cf7d0dd395e>\u001b[0m in \u001b[0;36m<module>\u001b[0;34m\u001b[0m\n\u001b[0;32m----> 1\u001b[0;31m \u001b[0max\u001b[0m\u001b[0;34m=\u001b[0m\u001b[0mplt\u001b[0m\u001b[0;34m.\u001b[0m\u001b[0mbar\u001b[0m\u001b[0;34m(\u001b[0m\u001b[0mrange\u001b[0m\u001b[0;34m(\u001b[0m\u001b[0;36m1\u001b[0m\u001b[0;34m,\u001b[0m\u001b[0mpsi\u001b[0m\u001b[0;34m.\u001b[0m\u001b[0mshape\u001b[0m\u001b[0;34m[\u001b[0m\u001b[0;36m0\u001b[0m\u001b[0;34m]\u001b[0m\u001b[0;34m+\u001b[0m\u001b[0;36m1\u001b[0m\u001b[0;34m)\u001b[0m\u001b[0;34m,\u001b[0m\u001b[0mpsi\u001b[0m\u001b[0;34m**\u001b[0m\u001b[0;36m2\u001b[0m\u001b[0;34m)\u001b[0m\u001b[0;34m\u001b[0m\u001b[0;34m\u001b[0m\u001b[0m\n\u001b[0m",
      "\u001b[0;32m/anaconda3/lib/python3.7/site-packages/matplotlib/pyplot.py\u001b[0m in \u001b[0;36mbar\u001b[0;34m(x, height, width, bottom, align, data, **kwargs)\u001b[0m\n\u001b[1;32m   2455\u001b[0m     return gca().bar(\n\u001b[1;32m   2456\u001b[0m         \u001b[0mx\u001b[0m\u001b[0;34m,\u001b[0m \u001b[0mheight\u001b[0m\u001b[0;34m,\u001b[0m \u001b[0mwidth\u001b[0m\u001b[0;34m=\u001b[0m\u001b[0mwidth\u001b[0m\u001b[0;34m,\u001b[0m \u001b[0mbottom\u001b[0m\u001b[0;34m=\u001b[0m\u001b[0mbottom\u001b[0m\u001b[0;34m,\u001b[0m \u001b[0malign\u001b[0m\u001b[0;34m=\u001b[0m\u001b[0malign\u001b[0m\u001b[0;34m,\u001b[0m\u001b[0;34m\u001b[0m\u001b[0;34m\u001b[0m\u001b[0m\n\u001b[0;32m-> 2457\u001b[0;31m         **({\"data\": data} if data is not None else {}), **kwargs)\n\u001b[0m\u001b[1;32m   2458\u001b[0m \u001b[0;34m\u001b[0m\u001b[0m\n\u001b[1;32m   2459\u001b[0m \u001b[0;34m\u001b[0m\u001b[0m\n",
      "\u001b[0;32m/anaconda3/lib/python3.7/site-packages/matplotlib/__init__.py\u001b[0m in \u001b[0;36minner\u001b[0;34m(ax, data, *args, **kwargs)\u001b[0m\n\u001b[1;32m   1808\u001b[0m                         \u001b[0;34m\"the Matplotlib list!)\"\u001b[0m \u001b[0;34m%\u001b[0m \u001b[0;34m(\u001b[0m\u001b[0mlabel_namer\u001b[0m\u001b[0;34m,\u001b[0m \u001b[0mfunc\u001b[0m\u001b[0;34m.\u001b[0m\u001b[0m__name__\u001b[0m\u001b[0;34m)\u001b[0m\u001b[0;34m,\u001b[0m\u001b[0;34m\u001b[0m\u001b[0;34m\u001b[0m\u001b[0m\n\u001b[1;32m   1809\u001b[0m                         RuntimeWarning, stacklevel=2)\n\u001b[0;32m-> 1810\u001b[0;31m             \u001b[0;32mreturn\u001b[0m \u001b[0mfunc\u001b[0m\u001b[0;34m(\u001b[0m\u001b[0max\u001b[0m\u001b[0;34m,\u001b[0m \u001b[0;34m*\u001b[0m\u001b[0margs\u001b[0m\u001b[0;34m,\u001b[0m \u001b[0;34m**\u001b[0m\u001b[0mkwargs\u001b[0m\u001b[0;34m)\u001b[0m\u001b[0;34m\u001b[0m\u001b[0;34m\u001b[0m\u001b[0m\n\u001b[0m\u001b[1;32m   1811\u001b[0m \u001b[0;34m\u001b[0m\u001b[0m\n\u001b[1;32m   1812\u001b[0m         inner.__doc__ = _add_data_doc(inner.__doc__,\n",
      "\u001b[0;32m/anaconda3/lib/python3.7/site-packages/matplotlib/axes/_axes.py\u001b[0m in \u001b[0;36mbar\u001b[0;34m(self, x, height, width, bottom, align, **kwargs)\u001b[0m\n\u001b[1;32m   2294\u001b[0m                 \u001b[0medgecolor\u001b[0m\u001b[0;34m=\u001b[0m\u001b[0me\u001b[0m\u001b[0;34m,\u001b[0m\u001b[0;34m\u001b[0m\u001b[0;34m\u001b[0m\u001b[0m\n\u001b[1;32m   2295\u001b[0m                 \u001b[0mlinewidth\u001b[0m\u001b[0;34m=\u001b[0m\u001b[0mlw\u001b[0m\u001b[0;34m,\u001b[0m\u001b[0;34m\u001b[0m\u001b[0;34m\u001b[0m\u001b[0m\n\u001b[0;32m-> 2296\u001b[0;31m                 \u001b[0mlabel\u001b[0m\u001b[0;34m=\u001b[0m\u001b[0;34m'_nolegend_'\u001b[0m\u001b[0;34m,\u001b[0m\u001b[0;34m\u001b[0m\u001b[0;34m\u001b[0m\u001b[0m\n\u001b[0m\u001b[1;32m   2297\u001b[0m                 )\n\u001b[1;32m   2298\u001b[0m             \u001b[0mr\u001b[0m\u001b[0;34m.\u001b[0m\u001b[0mupdate\u001b[0m\u001b[0;34m(\u001b[0m\u001b[0mkwargs\u001b[0m\u001b[0;34m)\u001b[0m\u001b[0;34m\u001b[0m\u001b[0;34m\u001b[0m\u001b[0m\n",
      "\u001b[0;32m/anaconda3/lib/python3.7/site-packages/matplotlib/patches.py\u001b[0m in \u001b[0;36m__init__\u001b[0;34m(self, xy, width, height, angle, **kwargs)\u001b[0m\n\u001b[1;32m    656\u001b[0m         \"\"\"\n\u001b[1;32m    657\u001b[0m \u001b[0;34m\u001b[0m\u001b[0m\n\u001b[0;32m--> 658\u001b[0;31m         \u001b[0mPatch\u001b[0m\u001b[0;34m.\u001b[0m\u001b[0m__init__\u001b[0m\u001b[0;34m(\u001b[0m\u001b[0mself\u001b[0m\u001b[0;34m,\u001b[0m \u001b[0;34m**\u001b[0m\u001b[0mkwargs\u001b[0m\u001b[0;34m)\u001b[0m\u001b[0;34m\u001b[0m\u001b[0;34m\u001b[0m\u001b[0m\n\u001b[0m\u001b[1;32m    659\u001b[0m \u001b[0;34m\u001b[0m\u001b[0m\n\u001b[1;32m    660\u001b[0m         \u001b[0mself\u001b[0m\u001b[0;34m.\u001b[0m\u001b[0m_x0\u001b[0m \u001b[0;34m=\u001b[0m \u001b[0mxy\u001b[0m\u001b[0;34m[\u001b[0m\u001b[0;36m0\u001b[0m\u001b[0;34m]\u001b[0m\u001b[0;34m\u001b[0m\u001b[0;34m\u001b[0m\u001b[0m\n",
      "\u001b[0;32m/anaconda3/lib/python3.7/site-packages/matplotlib/patches.py\u001b[0m in \u001b[0;36m__init__\u001b[0;34m(self, edgecolor, facecolor, color, linewidth, linestyle, antialiased, hatch, fill, capstyle, joinstyle, **kwargs)\u001b[0m\n\u001b[1;32m     85\u001b[0m         \u001b[0mself\u001b[0m\u001b[0;34m.\u001b[0m\u001b[0mset_fill\u001b[0m\u001b[0;34m(\u001b[0m\u001b[0mfill\u001b[0m\u001b[0;34m)\u001b[0m\u001b[0;34m\u001b[0m\u001b[0;34m\u001b[0m\u001b[0m\n\u001b[1;32m     86\u001b[0m         \u001b[0mself\u001b[0m\u001b[0;34m.\u001b[0m\u001b[0mset_linestyle\u001b[0m\u001b[0;34m(\u001b[0m\u001b[0mlinestyle\u001b[0m\u001b[0;34m)\u001b[0m\u001b[0;34m\u001b[0m\u001b[0;34m\u001b[0m\u001b[0m\n\u001b[0;32m---> 87\u001b[0;31m         \u001b[0mself\u001b[0m\u001b[0;34m.\u001b[0m\u001b[0mset_linewidth\u001b[0m\u001b[0;34m(\u001b[0m\u001b[0mlinewidth\u001b[0m\u001b[0;34m)\u001b[0m\u001b[0;34m\u001b[0m\u001b[0;34m\u001b[0m\u001b[0m\n\u001b[0m\u001b[1;32m     88\u001b[0m         \u001b[0mself\u001b[0m\u001b[0;34m.\u001b[0m\u001b[0mset_antialiased\u001b[0m\u001b[0;34m(\u001b[0m\u001b[0mantialiased\u001b[0m\u001b[0;34m)\u001b[0m\u001b[0;34m\u001b[0m\u001b[0;34m\u001b[0m\u001b[0m\n\u001b[1;32m     89\u001b[0m         \u001b[0mself\u001b[0m\u001b[0;34m.\u001b[0m\u001b[0mset_hatch\u001b[0m\u001b[0;34m(\u001b[0m\u001b[0mhatch\u001b[0m\u001b[0;34m)\u001b[0m\u001b[0;34m\u001b[0m\u001b[0;34m\u001b[0m\u001b[0m\n",
      "\u001b[0;32m/anaconda3/lib/python3.7/site-packages/matplotlib/patches.py\u001b[0m in \u001b[0;36mset_linewidth\u001b[0;34m(self, w)\u001b[0m\n\u001b[1;32m    346\u001b[0m                 \u001b[0mw\u001b[0m \u001b[0;34m=\u001b[0m \u001b[0mmpl\u001b[0m\u001b[0;34m.\u001b[0m\u001b[0mrcParams\u001b[0m\u001b[0;34m[\u001b[0m\u001b[0;34m'axes.linewidth'\u001b[0m\u001b[0;34m]\u001b[0m\u001b[0;34m\u001b[0m\u001b[0;34m\u001b[0m\u001b[0m\n\u001b[1;32m    347\u001b[0m \u001b[0;34m\u001b[0m\u001b[0m\n\u001b[0;32m--> 348\u001b[0;31m         \u001b[0mself\u001b[0m\u001b[0;34m.\u001b[0m\u001b[0m_linewidth\u001b[0m \u001b[0;34m=\u001b[0m \u001b[0mfloat\u001b[0m\u001b[0;34m(\u001b[0m\u001b[0mw\u001b[0m\u001b[0;34m)\u001b[0m\u001b[0;34m\u001b[0m\u001b[0;34m\u001b[0m\u001b[0m\n\u001b[0m\u001b[1;32m    349\u001b[0m         \u001b[0;31m# scale the dash pattern by the linewidth\u001b[0m\u001b[0;34m\u001b[0m\u001b[0;34m\u001b[0m\u001b[0;34m\u001b[0m\u001b[0m\n\u001b[1;32m    350\u001b[0m         \u001b[0moffset\u001b[0m\u001b[0;34m,\u001b[0m \u001b[0mls\u001b[0m \u001b[0;34m=\u001b[0m \u001b[0mself\u001b[0m\u001b[0;34m.\u001b[0m\u001b[0m_us_dashes\u001b[0m\u001b[0;34m\u001b[0m\u001b[0;34m\u001b[0m\u001b[0m\n",
      "\u001b[0;31mTypeError\u001b[0m: only size-1 arrays can be converted to Python scalars"
     ]
    },
    {
     "data": {
      "image/png": "[encoded data removed]",
      "text/plain": [
       "<Figure size 720x144 with 1 Axes>"
      ]
     },
     "metadata": {
      "needs_background": "light"
     },
     "output_type": "display_data"
    }
   ],
   "source": [
    "ax=plt.bar(range(1,psi.shape[0]+1),psi**2)"
   ]
  },
  {
   "cell_type": "markdown",
   "metadata": {},
   "source": [
    "**Hey, the probability is $0$, what is wrong?**  \n",
    "\n",
    "Because the space is too large and the model is randomly initialized!\n",
    "\n",
    "Actually the purpose of training is exactly to increase the probability of given images. This is the so-called *maximum likelihood learning*.\n",
    "\n",
    "The basic procedure is sweeping back and force, from right to left, then from left to right. During each sweep, the visited tensor is updated according to the *gradients* of the log-probability with respect to tensor elements."
   ]
  },
  {
   "cell_type": "markdown",
   "metadata": {},
   "source": [
    "## Training MPS\n",
    "<img src=\"imgs/training.png\" width=\"350px\"/>"
   ]
  },
  {
   "cell_type": "markdown",
   "metadata": {},
   "source": [
    "Some tips on the code:\n",
    "* Only images with $i^{\\mathrm{th}}$ element $v_i$ contribute to tensor element $A_{w_{i-1},v_i,w_i}$.\n",
    "* ```torch.sum(left_vec.permute(0,2,1) @ right_vec.permute(0,2,1)``` computes $\\Psi'(\\mathbf{x})$.\n",
    "* ```psi = left_vec @ A.permute(1,0,2) @right_vec ``` does not compute _real_ $\\Psi$, as cache is rescaled to preserve precision. Thus one needs to call ```psi=get_psi()``` in order to compute correct probability amplitude $\\Psi$.\n",
    "* ```tensors_bak=tensors.copy()``` is to backup the training environment for restoring after generating images.\n",
    "* ```@``` operator in ```left_vec @ A.permute(1,0,2) @right_vec ``` and in ```cache[site] @ tensors[site][:,data[:,site],:].permute(1,0,2)``` works as batched matrix-matrix multiplications.\n",
    "* In ```orthogonalize()```, imposing matrix $R$ to be norm-one using ```R/=R.norm() ``` actually let the partition function $Z=1$."
   ]
  },
  {
   "cell_type": "code",
   "execution_count": 18,
   "metadata": {
    "scrolled": false
   },
   "outputs": [
    {
     "name": "stdout",
     "output_type": "stream",
     "text": [
      " Epoch #0, site #783 / 784           NLL=74.308, LowerBound=2.996, total_prob=0.000   generating samples..."
     ]
    },
    {
     "data": {
      "image/png": "[encoded data removed]",
      "text/plain": [
       "<Figure size 720x144 with 1 Axes>"
      ]
     },
     "metadata": {
      "needs_background": "light"
     },
     "output_type": "display_data"
    },
    {
     "data": {
      "image/png": "[encoded data removed]",
      "text/plain": [
       "<Figure size 1080x144 with 30 Axes>"
      ]
     },
     "metadata": {},
     "output_type": "display_data"
    },
    {
     "name": "stdout",
     "output_type": "stream",
     "text": [
      "Press Enter to continue  \n",
      " Epoch #1, site #783 / 784           NLL=30.113, LowerBound=2.996, total_prob=0.000   generating samples..."
     ]
    },
    {
     "data": {
      "image/png": "[encoded data removed]",
      "text/plain": [
       "<Figure size 1080x144 with 1 Axes>"
      ]
     },
     "metadata": {
      "needs_background": "light"
     },
     "output_type": "display_data"
    },
    {
     "data": {
      "image/png": "[encoded data removed]",
      "text/plain": [
       "<Figure size 1080x144 with 30 Axes>"
      ]
     },
     "metadata": {},
     "output_type": "display_data"
    },
    {
     "name": "stdout",
     "output_type": "stream",
     "text": [
      "Press Enter to continue  \n",
      " Epoch #2, site #783 / 784           NLL=15.047, LowerBound=2.996, total_prob=0.012   generating samples..."
     ]
    },
    {
     "data": {
      "image/png": "[encoded data removed]",
      "text/plain": [
       "<Figure size 1080x144 with 1 Axes>"
      ]
     },
     "metadata": {
      "needs_background": "light"
     },
     "output_type": "display_data"
    },
    {
     "data": {
      "image/png": "[encoded data removed]",
      "text/plain": [
       "<Figure size 1080x144 with 30 Axes>"
      ]
     },
     "metadata": {},
     "output_type": "display_data"
    },
    {
     "name": "stdout",
     "output_type": "stream",
     "text": [
      "Press Enter to continue  \n",
      " Epoch #3, site #783 / 784           NLL=7.169, LowerBound=2.996, total_prob=0.091   generating samples..."
     ]
    },
    {
     "data": {
      "image/png": "[encoded data removed]",
      "text/plain": [
       "<Figure size 1080x144 with 1 Axes>"
      ]
     },
     "metadata": {
      "needs_background": "light"
     },
     "output_type": "display_data"
    },
    {
     "data": {
      "image/png": "[encoded data removed]",
      "text/plain": [
       "<Figure size 1080x144 with 30 Axes>"
      ]
     },
     "metadata": {},
     "output_type": "display_data"
    },
    {
     "name": "stdout",
     "output_type": "stream",
     "text": [
      "Press Enter to continue  \n",
      " Epoch #4, site #783 / 784           NLL=4.011, LowerBound=2.996, total_prob=0.448   generating samples..."
     ]
    },
    {
     "data": {
      "image/png": "[encoded data removed]",
      "text/plain": [
       "<Figure size 1080x144 with 1 Axes>"
      ]
     },
     "metadata": {
      "needs_background": "light"
     },
     "output_type": "display_data"
    },
    {
     "data": {
      "image/png": "[encoded data removed]",
      "text/plain": [
       "<Figure size 1080x144 with 30 Axes>"
      ]
     },
     "metadata": {},
     "output_type": "display_data"
    },
    {
     "name": "stdout",
     "output_type": "stream",
     "text": [
      "Press Enter to continue  \n",
      " Epoch #5, site #783 / 784           NLL=3.490, LowerBound=2.996, total_prob=0.699   generating samples..."
     ]
    },
    {
     "data": {
      "image/png": "[encoded data removed]",
      "text/plain": [
       "<Figure size 1080x144 with 1 Axes>"
      ]
     },
     "metadata": {
      "needs_background": "light"
     },
     "output_type": "display_data"
    },
    {
     "data": {
      "image/png": "[encoded data removed]",
      "text/plain": [
       "<Figure size 1080x144 with 30 Axes>"
      ]
     },
     "metadata": {},
     "output_type": "display_data"
    },
    {
     "name": "stdout",
     "output_type": "stream",
     "text": [
      "Press Enter to continue  \n",
      " Epoch #6, site #783 / 784           NLL=3.294, LowerBound=2.996, total_prob=0.821   generating samples..."
     ]
    },
    {
     "data": {
      "image/png": "[encoded data removed]",
      "text/plain": [
       "<Figure size 1080x144 with 1 Axes>"
      ]
     },
     "metadata": {
      "needs_background": "light"
     },
     "output_type": "display_data"
    },
    {
     "data": {
      "image/png": "[encoded data removed]",
      "text/plain": [
       "<Figure size 1080x144 with 30 Axes>"
      ]
     },
     "metadata": {},
     "output_type": "display_data"
    },
    {
     "name": "stdout",
     "output_type": "stream",
     "text": [
      "Press Enter to continue  \n",
      " Epoch #7, site #783 / 784           NLL=3.119, LowerBound=2.996, total_prob=0.933   generating samples..."
     ]
    },
    {
     "data": {
      "image/png": "[encoded data removed]",
      "text/plain": [
       "<Figure size 1080x144 with 1 Axes>"
      ]
     },
     "metadata": {
      "needs_background": "light"
     },
     "output_type": "display_data"
    },
    {
     "data": {
      "image/png": "[encoded data removed]",
      "text/plain": [
       "<Figure size 1080x144 with 30 Axes>"
      ]
     },
     "metadata": {},
     "output_type": "display_data"
    },
    {
     "name": "stdout",
     "output_type": "stream",
     "text": [
      "Press Enter to continue  \n",
      " Epoch #8, site #783 / 784           NLL=3.002, LowerBound=2.996, total_prob=0.998   generating samples..."
     ]
    },
    {
     "data": {
      "image/png": "[encoded data removed]",
      "text/plain": [
       "<Figure size 1080x144 with 1 Axes>"
      ]
     },
     "metadata": {
      "needs_background": "light"
     },
     "output_type": "display_data"
    },
    {
     "data": {
      "image/png": "[encoded data removed]",
      "text/plain": [
       "<Figure size 1080x144 with 30 Axes>"
      ]
     },
     "metadata": {},
     "output_type": "display_data"
    }
   ],
   "source": [
    "learning_rate=0.08\n",
    "for epoch in range(9):    # one sweep, from right to left, then from left to right\n",
    "    going_right=False\n",
    "    for site in [i for i in range(n-1,0,-1)]+[i for i in range(n-1)]:\n",
    "        # to update tensors[site] which is a 3-way tensor of size [dl,2,dr]\n",
    "        sys.stdout.write(\"\\r Epoch #%d, site #%d / %d           \"%(epoch, site+1,n)); sys.stdout.flush()\n",
    "        if(site==0): going_right=True\n",
    "        gradients = torch.zeros_like(tensors[site])\n",
    "        for i in [0,1]: # the pixel could be either 0 or 1\n",
    "            idx=(data[:,site]==i).nonzero().type(torch.LongTensor).squeeze() # this returns indices of non-zero elements\n",
    "            if(idx.numel()==0): continue\n",
    "            left_vec = cache[site][idx,:,:] # a vector on the left of the site\n",
    "            right_vec = cache[site+1][idx,:,:] # a vector on the right of the site\n",
    "            A=tensors[site][:,data[idx,site],:]\n",
    "            if(idx.numel()==1): \n",
    "                A=A.view(A.shape[0],1,A.shape[1])\n",
    "                left_vec=left_vec.view(1,left_vec.shape[0],left_vec.shape[1])\n",
    "                right_vec=right_vec.view(1,right_vec.shape[0],right_vec.shape[1])\n",
    "            psi = left_vec @ A.permute(1,0,2) @right_vec \n",
    "            gradients[:,i,:] = torch.sum(left_vec.permute(0,2,1) @ right_vec.permute(0,2,1) / psi,0) \n",
    "        gradients = 2.0*(gradients/m-tensors[site])  \n",
    "        tensors[site] += learning_rate * gradients/gradients.norm()\n",
    "        orthogonalize(site,going_right)\n",
    "        if(going_right):\n",
    "            cache[site+1] = cache[site] @ tensors[site][:,data[:,site],:].permute(1,0,2)\n",
    "            cache[site+1] /= cache[site+1].abs().max()\n",
    "        else:\n",
    "            cache[site] = tensors[site][:,data[:,site],:].permute(1,0,2) @ cache[site+1]\n",
    "            cache[site] /= cache[site].abs().max()\n",
    "    psi=get_psi()\n",
    "    tensors_bak=tensors.copy()\n",
    "    sys.stdout.write(\"NLL=%.3f, LowerBound=%.3f, total_prob=%.3f \"%(-torch.mean(torch.log(psi*psi)),math.log(m),torch.sum(psi.squeeze()**2) ))\n",
    "    sys.stdout.write(\"  generating samples...\")\n",
    "    ax=plt.bar(range(1,psi.shape[0]+1),psi.squeeze()**2)\n",
    "    imgs=gen_samples(30)\n",
    "    show_imgs(imgs,2,15,15,2)\n",
    "    tensors=tensors_bak.copy()\n",
    "    if(epoch < 8):\n",
    "        input(\"Press Enter to continue  \")\n"
   ]
  },
  {
   "cell_type": "markdown",
   "metadata": {},
   "source": [
    "### References for further reading:\n",
    "* Ulrich Schollwock, “The density-matrix renormalization group in the age of matrix product states,” Annals of Physics 326, 96– 192 (2011).\n",
    "* Tamara G. Kolda, and Brett W. Bader, \"Tensor decompositions and applications\", SIAM review 51, 455 (2009).\n",
    "* Ivan V Oseledets, “Tensor-train decomposition,” SIAM Journal on Scientific Computing 33, 2295–2317 (2011).\n",
    "* Edwin Miles Miles Stoudenmire and David J. Schwab, “Supervised Learning with Quantum-Inspired Tensor Networks,” Advances in Neural Information Processing Systems 29, 4799 (2016), arXiv:1605.05775.\n",
    "* Alexander Novikov, Mikhail Trofimov, and Ivan Oseledets, “Exponential machines,” arXiv:1605.05775 (2016).\n",
    "* Jinguo Liu, and Lei Wang,Differentiable Learning of Quantum Circuit Born Machine, arXiv:1804.04168 (2018).\n",
    "* Edwin Miles Stoudenmire, “Learning relevant features of data with multi-scale tensor networks,” Quantum Science and Technology (2018)."
   ]
  }
 ],
 "metadata": {
  "kernelspec": {
   "display_name": "Python 3",
   "language": "python",
   "name": "python3"
  },
  "language_info": {
   "codemirror_mode": {
    "name": "ipython",
    "version": 3
   },
   "file_extension": ".py",
   "mimetype": "text/x-python",
   "name": "python",
   "nbconvert_exporter": "python",
   "pygments_lexer": "ipython3",
   "version": "3.7.3"
  }
 },
 "nbformat": 4,
 "nbformat_minor": 2
}
